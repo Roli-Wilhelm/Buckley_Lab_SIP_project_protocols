{
 "cells": [
  {
   "cell_type": "markdown",
   "metadata": {},
   "source": [
    "# PIPITS Fungal ITS-dedicated Pipeline\n",
    "* The default pair merge algorithm in vsearch discards 90% of the data. This was observed in other datasets and is believe to be overly conservative. PIPITs offers support for using Pear  is a dedicated alternative\n",
    "\n",
    "### Dependencies ####\n",
    "\n",
    "##### || PIPITS ||\n",
    "* Follow instructions provided at: \n",
    "* https://github.com/hsgweon/pipits\n",
    "* Note: all dependencies which require 'sudo' will already be met (i.e. don't bother running those commands... they won't work anyways)\n",
    "\n",
    "##### || deML ||\n",
    "* Follow instructions provided at: \n",
    "* https://github.com/grenaud/deML\n",
    "\n",
    "##### || phyloseq ||\n",
    "* conda install -c r-igraph \n",
    "* Rscript -e \"source('http://bioconductor.org/biocLite.R');biocLite('phyloseq')\" \n",
    "\n",
    "##### || FUNGuild ||\n",
    "* download FUNGUild script:\n",
    "* https://raw.githubusercontent.com/UMNFuN/FUNGuild/master/Guilds_v1.1.py\n",
    "\n",
    "##### || PEAR ||\n",
    "* download at: https://sco.h-its.org/exelixis/web/software/pear/\n",
    "\n",
    "### Citations ###\n",
    "* Gweon, H. S., Oliver, A., Taylor, J., Booth, T., Gibbs, M., Read, D. S., et al. (2015). PIPITS: an automated pipeline for analyses of fungal internal transcribed spacer sequences from the Illumina sequencing platform. Methods in ecology and evolution, 6(8), 973-980.\n",
    "\n",
    "* Renaud, G., Stenzel, U., Maricic, T., Wiebe, V., & Kelso, J. (2014). deML: robust demultiplexing of Illumina sequences using a likelihood-based approach. Bioinformatics, 31(5), 770-772.\n",
    "\n",
    "* McMurdie and Holmes (2013) phyloseq: An R Package for Reproducible Interactive Analysis and Graphics of Microbiome Census Data. PLoS ONE. 8(4):e61217\n",
    "\n",
    "* Nguyen NH, Song Z, Bates ST, Branco S, Tedersoo L, Menke J, Schilling JS, Kennedy PG. 2016. FUNGuild: An open annotation tool for parsing fungal community datasets by ecological guild. Fungal Ecology 20:241–248.\n",
    "\n",
    "* Zhang J, Kobert K, Flouri T, Stamatakis A. 2013. PEAR: a fast and accurate Illumina Paired-End reAd mergeR. Bioinformatics, 30(5): 614-620.\n",
    "\n",
    "\n",
    "###### Last Modified by R. Wilhelm on January 2nd, 2018 ######"
   ]
  },
  {
   "cell_type": "markdown",
   "metadata": {},
   "source": [
    "# Step 1: User Input"
   ]
  },
  {
   "cell_type": "code",
   "execution_count": null,
   "metadata": {
    "collapsed": true
   },
   "outputs": [],
   "source": [
    "import os\n",
    "\n",
    "# Provide the directory for your index and read files\n",
    "ITS = '/home/roli/FORESTs_BHAVYA/WoodsLake/raw_seq/ITS/'\n",
    "\n",
    "# Provide \n",
    "datasets = [['ITS',ITS,'ITS.metadata.pipits.Woods.tsv']]\n",
    "\n",
    "# Ensure your reads files are named accordingly (or modify to suit your needs)\n",
    "readFile1 = 'read1.fq.gz'\n",
    "readFile2 = 'read2.fq.gz'\n",
    "indexFile1 = 'index_read1.fq.gz'\n",
    "indexFile2 = 'index_read2.fq.gz'\n",
    "\n",
    "# Example of metadata file\n",
    "#Index1\tIndex2\tName\n",
    "#AATTCAA\tCATCCGG\tRG1\n",
    "#CGCGCAG\tTCATGGT\tRG2\n",
    "#AAGGTCT\tAGAACCG\tRG3\n",
    "#ACTGGAC\tTGGAATA\tRG4\n",
    "\n",
    "## Again, for our pipeline Index1 typically is the reverse complement of the reverse barcode, while Index2 is the forward barcode."
   ]
  },
  {
   "cell_type": "markdown",
   "metadata": {},
   "source": [
    "# Step 2: Demultiplex Raw Reads"
   ]
  },
  {
   "cell_type": "code",
   "execution_count": null,
   "metadata": {
    "collapsed": true
   },
   "outputs": [],
   "source": [
    "# Ignore all the 'conflict' errors. The reads are paired so the conflicts are bogus (i.e. it gives a warning everytime an barcode appears in multiple samples, but no pairs are duplicated)\n",
    "\n",
    "for dataset in datasets:\n",
    "    name = dataset[0]\n",
    "    directory = dataset[1]\n",
    "    metadata = directory+dataset[2]\n",
    "    index1 = directory+indexFile1\n",
    "    index2 = directory+indexFile2\n",
    "    read1 = directory+readFile1\n",
    "    read2 = directory+readFile2\n",
    "    \n",
    "    # Make output directory\n",
    "    %mkdir $directory/pipits_input/\n",
    "    \n",
    "    # Run deML   ## Note: you may get error involving 'ulimit'. If so, exit your notebook. Enter 'ulimit -n 9999' at the command line, then restart a new notebook.\n",
    "    !deML -i $metadata -f $read1 -r $read2 -if1 $index1 -if2 $index2 -o $directory/pipits_input/$name\n",
    "\n",
    "    # Remove unnecessary 'failed' reads and index files\n",
    "    %rm $directory/pipits_input/*.fail.* $directory/pipits_input/unknown*"
   ]
  },
  {
   "cell_type": "markdown",
   "metadata": {},
   "source": [
    "# Step 3: Make Sample Mapping File (aka. 'readpairlist')"
   ]
  },
  {
   "cell_type": "code",
   "execution_count": null,
   "metadata": {
    "collapsed": true
   },
   "outputs": [],
   "source": [
    "import glob, re\n",
    "for dataset in datasets:\n",
    "    name = dataset[0]\n",
    "    directory = dataset[1]\n",
    "    \n",
    "    # Remove Previously Prepended Name (PIPITS wanted something)\n",
    "    for file in glob.glob(directory+\"pipits_input/\"+name+\"_*\"):\n",
    "        new_name = re.sub(name+\"_\",\"\",file)\n",
    "        os.rename(file, new_name)\n",
    "    \n",
    "    # Rename files with with extension .fq (PIPITS is PICKY)\n",
    "    for file in glob.glob(directory+\"pipits_input/*.fq.gz\"):\n",
    "        new_name = re.sub(\".fq.gz\",\".fastq.gz\",file)\n",
    "        os.rename(file, new_name)\n",
    "    \n",
    "    # Remove Unbinned Reads\n",
    "    %rm $directory/pipits_input/unknown*        \n",
    "    \n",
    "    # Run PIPITS List Prep\n",
    "    input_dir = directory+\"pipits_input/\"\n",
    "    output_dir = directory+name+\".readpairslist.txt\"\n",
    "    \n",
    "    !pipits_getreadpairslist -i $input_dir -o $output_dir -f\n"
   ]
  },
  {
   "cell_type": "markdown",
   "metadata": {},
   "source": [
    "# Step 4: Pre-process Data with PIPITS (merge and QC)"
   ]
  },
  {
   "cell_type": "code",
   "execution_count": null,
   "metadata": {
    "collapsed": true,
    "scrolled": true
   },
   "outputs": [],
   "source": [
    "for dataset in datasets:\n",
    "    name = dataset[0]\n",
    "    directory = dataset[1]\n",
    "    \n",
    "    input_dir = directory+\"pipits_input/\"\n",
    "    output_dir = directory+\"pipits_prep/\"\n",
    "    readpairfile = directory+name+\".readpairslist.txt\"\n",
    "    \n",
    "    !pipits_prep -i $input_dir -o $output_dir -l $readpairfile\n"
   ]
  },
  {
   "cell_type": "markdown",
   "metadata": {},
   "source": [
    "# Step 4: Extract Variable Region (**User Input Required**)"
   ]
  },
  {
   "cell_type": "code",
   "execution_count": null,
   "metadata": {
    "collapsed": true
   },
   "outputs": [],
   "source": [
    "ITS_Region = \"ITS1\"\n",
    "\n",
    "for dataset in datasets:\n",
    "    name = dataset[0]\n",
    "    directory = dataset[1]\n",
    "    \n",
    "    input_file = directory+\"pipits_prep/prepped.fasta\"\n",
    "    output_dir = directory+\"pipits_funits/\"\n",
    "    \n",
    "    !pipits_funits -i $input_file -o $output_dir -x $ITS_Region \n"
   ]
  },
  {
   "cell_type": "markdown",
   "metadata": {},
   "source": [
    "# Step 5: Cluster and Assign Taxonomy"
   ]
  },
  {
   "cell_type": "code",
   "execution_count": null,
   "metadata": {
    "collapsed": true
   },
   "outputs": [],
   "source": [
    "for dataset in datasets:\n",
    "    name = dataset[0]\n",
    "    directory = dataset[1]\n",
    "    \n",
    "    input_file = directory+\"pipits_funits/ITS.fasta\"\n",
    "    output_dir = directory+\"PIPITS_final/\"\n",
    "\n",
    "    !pipits_process -i $input_file -o $output_dir --Xmx 20G\n",
    "    "
   ]
  },
  {
   "cell_type": "markdown",
   "metadata": {},
   "source": [
    "# Step 6: Push OTU Table through FUNGuild"
   ]
  },
  {
   "cell_type": "code",
   "execution_count": null,
   "metadata": {
    "collapsed": true
   },
   "outputs": [],
   "source": [
    "for dataset in datasets:\n",
    "    name = dataset[0]\n",
    "    directory = dataset[1]\n",
    "    \n",
    "    # Prepare PIPITS output for FUNGuild\n",
    "    !pipits_funguild.py -i $directory/PIPITS_final/otu_table.txt -o $directory/PIPITS_final/otu_table_funguild.txt\n",
    "   \n",
    "    # Run FUNGuild\n",
    "    !python /home/db/FUNGuild/Guilds_v1.1.py -otu $directory/PIPITS_final/otu_table_funguild.txt -db fungi -m -u"
   ]
  },
  {
   "cell_type": "markdown",
   "metadata": {},
   "source": [
    "# Step 7: Import into R "
   ]
  },
  {
   "cell_type": "code",
   "execution_count": null,
   "metadata": {
    "collapsed": true
   },
   "outputs": [],
   "source": [
    "## Setup R-Magic for Jupyter Notebooks\n",
    "import rpy2\n",
    "import pandas as pd\n",
    "%load_ext rpy2.ipython\n",
    "%R library(phyloseq)\n",
    "\n",
    "for dataset in datasets:\n",
    "    name = dataset[0]\n",
    "    directory = dataset[1]\n",
    "    metadata = dataset[2]\n",
    "    \n",
    "    # Input Biom\n",
    "    biom = directory+\"/PIPITS_final/otu_table.biom\" \n",
    "    %R -i biom\n",
    "    %R x <- import_biom(biom)\n",
    "\n",
    "    # Fix taxonomy table\n",
    "    %R colnames(tax_table(x)) <- c(\"Domain\",\"Phylum\",\"Class\",\"Order\",\"Family\",\"Genus\",\"Species\")\n",
    "    %R tax_table(x) = gsub(\"k__| p__| c__| o__| f__| g__| s__\",\"\",tax_table(x)) \n",
    "\n",
    "    # Merge Mapping into Phyloseq  \n",
    "    sample_file = pd.read_table(directory+metadata, keep_default_na=False)\n",
    "    %R -i sample_file\n",
    "    %R rownames(sample_file) <- sample_file$X.SampleID\n",
    "    %R sample_file$X.SampleID <- NULL\n",
    "    %R sample_file <- sample_data(sample_file)\n",
    "       \n",
    "    %R p <- merge_phyloseq(x, sample_file)\n",
    "                        \n",
    "    # Save Phyloseq Object as '.rds'\n",
    "    output = directory+\"/PIPITS_final/p_\"+name+\".pipits.final.rds\"\n",
    "    %%R -i output\n",
    "    %%R saveRDS(p, file = output)\n",
    "    \n",
    "    # Confirm Output\n",
    "    %R print(p)"
   ]
  },
  {
   "cell_type": "markdown",
   "metadata": {},
   "source": [
    "# Step 7: Clean-up Intermediate Files and Final Outputs"
   ]
  },
  {
   "cell_type": "code",
   "execution_count": null,
   "metadata": {
    "collapsed": true
   },
   "outputs": [],
   "source": [
    "for dataset in datasets:\n",
    "    name = dataset[0]\n",
    "    directory = dataset[1]\n",
    "   \n",
    "    %rm -r $directory/pipits_prep/\n",
    "    %rm -r $directory/pipits_funits/\n",
    "    %rm -r $directory/pipits_input/\n",
    "    \n",
    "    del_me = directory+name+\".readpairslist.txt\"\n",
    "    %rm $del_me"
   ]
  }
 ],
 "metadata": {
  "anaconda-cloud": {},
  "hide_input": true,
  "kernelspec": {
   "display_name": "Environment (conda_qiime2-2017.9)",
   "language": "python",
   "name": "conda_qiime2-2017.9"
  },
  "language_info": {
   "codemirror_mode": {
    "name": "ipython",
    "version": 3
   },
   "file_extension": ".py",
   "mimetype": "text/x-python",
   "name": "python",
   "nbconvert_exporter": "python",
   "pygments_lexer": "ipython3",
   "version": "3.5.4"
  },
  "notify_time": "5"
 },
 "nbformat": 4,
 "nbformat_minor": 1
}
